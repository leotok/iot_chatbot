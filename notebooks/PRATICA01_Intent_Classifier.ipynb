{
 "cells": [
  {
   "cell_type": "markdown",
   "metadata": {
    "colab_type": "text",
    "id": "op-WXf9PDS5G"
   },
   "source": [
    "# Intent Classifier\n",
    "\n",
    "Labels:\n",
    "- 'Ligar aparelho'\n",
    "- 'Desligar aparelho'\n",
    "- 'Criar regra'"
   ]
  },
  {
   "cell_type": "markdown",
   "metadata": {
    "colab_type": "text",
    "id": "87-a33w3Qcg6"
   },
   "source": [
    "## Setup"
   ]
  },
  {
   "cell_type": "code",
   "execution_count": 1,
   "metadata": {},
   "outputs": [],
   "source": [
    "import warnings\n",
    "warnings.filterwarnings('ignore')"
   ]
  },
  {
   "cell_type": "code",
   "execution_count": 2,
   "metadata": {},
   "outputs": [
    {
     "name": "stdout",
     "output_type": "stream",
     "text": [
      "Requirement already satisfied: pt_core_news_sm==2.1.0 from https://github.com/explosion/spacy-models/releases/download/pt_core_news_sm-2.1.0/pt_core_news_sm-2.1.0.tar.gz#egg=pt_core_news_sm==2.1.0 in /usr/local/lib/python3.6/site-packages (2.1.0)\n",
      "\u001b[33mYou are using pip version 18.1, however version 19.1.1 is available.\n",
      "You should consider upgrading via the 'pip install --upgrade pip' command.\u001b[0m\n",
      "\u001b[38;5;2m✔ Download and installation successful\u001b[0m\n",
      "You can now load the model via spacy.load('pt_core_news_sm')\n",
      "\u001b[38;5;2m✔ Linking successful\u001b[0m\n",
      "/usr/local/lib/python3.6/site-packages/pt_core_news_sm -->\n",
      "/usr/local/lib/python3.6/site-packages/spacy/data/pt\n",
      "You can now load the model via spacy.load('pt')\n"
     ]
    }
   ],
   "source": [
    "!python -m spacy download pt"
   ]
  },
  {
   "cell_type": "code",
   "execution_count": 3,
   "metadata": {
    "colab": {},
    "colab_type": "code",
    "id": "NCW4rJxcQm0j"
   },
   "outputs": [],
   "source": [
    "import pandas as pd\n",
    "import numpy as np"
   ]
  },
  {
   "cell_type": "markdown",
   "metadata": {
    "colab_type": "text",
    "id": "GzCaONWTDLkp"
   },
   "source": [
    "## Load dataset"
   ]
  },
  {
   "cell_type": "code",
   "execution_count": 4,
   "metadata": {
    "colab": {},
    "colab_type": "code",
    "id": "3yRe96yz90HH"
   },
   "outputs": [],
   "source": [
    "initial_df = pd.read_csv('../data/initial_dataset_22022018.csv')"
   ]
  },
  {
   "cell_type": "markdown",
   "metadata": {
    "colab_type": "text",
    "id": "ZM2QdAGEDcUq"
   },
   "source": [
    "## Preprocess dataset"
   ]
  },
  {
   "cell_type": "markdown",
   "metadata": {
    "colab_type": "text",
    "id": "ZJiT6-yOHZbZ"
   },
   "source": [
    "### Create a data/label dataframe"
   ]
  },
  {
   "cell_type": "code",
   "execution_count": 5,
   "metadata": {
    "colab": {
     "base_uri": "https://localhost:8080/",
     "height": 142
    },
    "colab_type": "code",
    "executionInfo": {
     "elapsed": 607,
     "status": "ok",
     "timestamp": 1520005309538,
     "user": {
      "displayName": "Leonardo Edelman Wajnsztok",
      "photoUrl": "https://lh3.googleusercontent.com/a/default-user=s128",
      "userId": "102321387525694070198"
     },
     "user_tz": 180
    },
    "id": "M1GbupFTqusr",
    "outputId": "987dfeb4-1e19-40e7-9606-d4d6a3306313"
   },
   "outputs": [
    {
     "data": {
      "text/html": [
       "<div>\n",
       "<style scoped>\n",
       "    .dataframe tbody tr th:only-of-type {\n",
       "        vertical-align: middle;\n",
       "    }\n",
       "\n",
       "    .dataframe tbody tr th {\n",
       "        vertical-align: top;\n",
       "    }\n",
       "\n",
       "    .dataframe thead th {\n",
       "        text-align: right;\n",
       "    }\n",
       "</style>\n",
       "<table border=\"1\" class=\"dataframe\">\n",
       "  <thead>\n",
       "    <tr style=\"text-align: right;\">\n",
       "      <th></th>\n",
       "      <th>Ligar um aparelho</th>\n",
       "      <th>Entities</th>\n",
       "      <th>Desligar um aparelho</th>\n",
       "      <th>Criar uma regra</th>\n",
       "    </tr>\n",
       "  </thead>\n",
       "  <tbody>\n",
       "    <tr>\n",
       "      <th>0</th>\n",
       "      <td>Liga a televisão por favor.</td>\n",
       "      <td>televisao&lt;B-DEVICE&gt;</td>\n",
       "      <td>Desligue a luz do quarto por favor.</td>\n",
       "      <td>Ligue o ar condicionado as 3 da tarde hoje.</td>\n",
       "    </tr>\n",
       "    <tr>\n",
       "      <th>1</th>\n",
       "      <td>Ligue o ar condicionado.</td>\n",
       "      <td>ar&lt;B-DEVICE&gt;;condicionado&lt;L-DEVICE&gt;</td>\n",
       "      <td>Desligar a TV.</td>\n",
       "      <td>Ligar a luz das 15 às 18 horas, todo dia.</td>\n",
       "    </tr>\n",
       "    <tr>\n",
       "      <th>2</th>\n",
       "      <td>Ar condicionado ligado.</td>\n",
       "      <td>ar&lt;B-DEVICE&gt;;condicionado&lt;L-DEVICE&gt;</td>\n",
       "      <td>Desliga o ar condicionado.</td>\n",
       "      <td>Apagar as luzes do quarto as 22 horas.</td>\n",
       "    </tr>\n",
       "  </tbody>\n",
       "</table>\n",
       "</div>"
      ],
      "text/plain": [
       "             Ligar um aparelho                             Entities  \\\n",
       "0  Liga a televisão por favor.                  televisao<B-DEVICE>   \n",
       "1     Ligue o ar condicionado.  ar<B-DEVICE>;condicionado<L-DEVICE>   \n",
       "2      Ar condicionado ligado.  ar<B-DEVICE>;condicionado<L-DEVICE>   \n",
       "\n",
       "                  Desligar um aparelho  \\\n",
       "0  Desligue a luz do quarto por favor.   \n",
       "1                       Desligar a TV.   \n",
       "2           Desliga o ar condicionado.   \n",
       "\n",
       "                               Criar uma regra  \n",
       "0  Ligue o ar condicionado as 3 da tarde hoje.  \n",
       "1    Ligar a luz das 15 às 18 horas, todo dia.  \n",
       "2       Apagar as luzes do quarto as 22 horas.  "
      ]
     },
     "execution_count": 5,
     "metadata": {},
     "output_type": "execute_result"
    }
   ],
   "source": [
    "initial_df.head(3)"
   ]
  },
  {
   "cell_type": "code",
   "execution_count": 6,
   "metadata": {
    "colab": {},
    "colab_type": "code",
    "id": "Oxv35K7jtwgD"
   },
   "outputs": [],
   "source": [
    "ligar_df = pd.DataFrame()\n",
    "ligar_df['phrase'] = initial_df['Ligar um aparelho']\n",
    "ligar_df['label'] = 'ligar_um_aparelho'\n",
    "ligar_df = ligar_df.dropna()\n",
    "\n",
    "desligar_df = pd.DataFrame()\n",
    "desligar_df['phrase'] = initial_df['Desligar um aparelho']\n",
    "desligar_df['label'] = 'desligar_um_aparelho'\n",
    "desligar_df = desligar_df.dropna()\n",
    "\n",
    "regra_df = pd.DataFrame()\n",
    "regra_df['phrase'] = initial_df['Criar uma regra']\n",
    "regra_df['label'] = 'criar_regra'\n",
    "regra_df = regra_df.dropna()\n",
    "\n",
    "df = ligar_df.append(desligar_df).append(regra_df)\n",
    "\n",
    "df[\"label\"] = df[\"label\"].astype('category')\n",
    "df[\"label_cat\"] = df[\"label\"].cat.codes"
   ]
  },
  {
   "cell_type": "code",
   "execution_count": 7,
   "metadata": {
    "colab": {
     "base_uri": "https://localhost:8080/",
     "height": 119
    },
    "colab_type": "code",
    "executionInfo": {
     "elapsed": 612,
     "status": "ok",
     "timestamp": 1520005311988,
     "user": {
      "displayName": "Leonardo Edelman Wajnsztok",
      "photoUrl": "https://lh3.googleusercontent.com/a/default-user=s128",
      "userId": "102321387525694070198"
     },
     "user_tz": 180
    },
    "id": "3-SZ0sWdrUgv",
    "outputId": "bdd0f31c-6cd9-47ef-bec9-e317ec1176d8"
   },
   "outputs": [
    {
     "name": "stdout",
     "output_type": "stream",
     "text": [
      "(311, 3)\n",
      "label\n",
      "criar_regra              83\n",
      "desligar_um_aparelho    100\n",
      "ligar_um_aparelho       128\n",
      "dtype: int64\n"
     ]
    }
   ],
   "source": [
    "print (df.shape)\n",
    "print (df.groupby('label').size())\n"
   ]
  },
  {
   "cell_type": "code",
   "execution_count": 8,
   "metadata": {
    "colab": {
     "base_uri": "https://localhost:8080/",
     "height": 80
    },
    "colab_type": "code",
    "executionInfo": {
     "elapsed": 799,
     "status": "ok",
     "timestamp": 1520005313220,
     "user": {
      "displayName": "Leonardo Edelman Wajnsztok",
      "photoUrl": "https://lh3.googleusercontent.com/a/default-user=s128",
      "userId": "102321387525694070198"
     },
     "user_tz": 180
    },
    "id": "6DJW3tForW1v",
    "outputId": "257cc482-d2fb-4ca9-bd7f-02d0d7296f3d"
   },
   "outputs": [
    {
     "data": {
      "text/html": [
       "<div>\n",
       "<style scoped>\n",
       "    .dataframe tbody tr th:only-of-type {\n",
       "        vertical-align: middle;\n",
       "    }\n",
       "\n",
       "    .dataframe tbody tr th {\n",
       "        vertical-align: top;\n",
       "    }\n",
       "\n",
       "    .dataframe thead th {\n",
       "        text-align: right;\n",
       "    }\n",
       "</style>\n",
       "<table border=\"1\" class=\"dataframe\">\n",
       "  <thead>\n",
       "    <tr style=\"text-align: right;\">\n",
       "      <th></th>\n",
       "      <th>phrase</th>\n",
       "      <th>label</th>\n",
       "      <th>label_cat</th>\n",
       "    </tr>\n",
       "  </thead>\n",
       "  <tbody>\n",
       "    <tr>\n",
       "      <th>0</th>\n",
       "      <td>Liga a televisão por favor.</td>\n",
       "      <td>ligar_um_aparelho</td>\n",
       "      <td>2</td>\n",
       "    </tr>\n",
       "  </tbody>\n",
       "</table>\n",
       "</div>"
      ],
      "text/plain": [
       "                        phrase              label  label_cat\n",
       "0  Liga a televisão por favor.  ligar_um_aparelho          2"
      ]
     },
     "execution_count": 8,
     "metadata": {},
     "output_type": "execute_result"
    }
   ],
   "source": [
    "df.head(1)"
   ]
  },
  {
   "cell_type": "markdown",
   "metadata": {
    "colab_type": "text",
    "id": "pV2K2n1hH1tU"
   },
   "source": [
    "### Clean dataset\n",
    "- Lower sentences\n",
    "- Remove accents\n",
    "- Apply stemmer"
   ]
  },
  {
   "cell_type": "code",
   "execution_count": 9,
   "metadata": {
    "colab": {},
    "colab_type": "code",
    "id": "WgC0KdIjH-iq"
   },
   "outputs": [],
   "source": [
    "df['phrase'] = df['phrase'].str.lower()\n",
    "df['phrase'] = df['phrase'].str.normalize('NFKD').str.encode('ascii', errors='ignore').str.decode('utf-8')\n"
   ]
  },
  {
   "cell_type": "code",
   "execution_count": 10,
   "metadata": {
    "colab": {
     "base_uri": "https://localhost:8080/",
     "height": 51
    },
    "colab_type": "code",
    "executionInfo": {
     "elapsed": 573,
     "status": "ok",
     "timestamp": 1520005315973,
     "user": {
      "displayName": "Leonardo Edelman Wajnsztok",
      "photoUrl": "https://lh3.googleusercontent.com/a/default-user=s128",
      "userId": "102321387525694070198"
     },
     "user_tz": 180
    },
    "id": "XPc1NTDtKDvJ",
    "outputId": "b0dbcb9e-89a5-4cf3-d0ff-55a07f86fa02"
   },
   "outputs": [
    {
     "name": "stdout",
     "output_type": "stream",
     "text": [
      "[nltk_data] Downloading package rslp to /root/nltk_data...\n",
      "[nltk_data]   Unzipping stemmers/rslp.zip.\n"
     ]
    }
   ],
   "source": [
    "import nltk\n",
    "nltk.download('rslp')\n",
    "stemmer = nltk.stem.RSLPStemmer()"
   ]
  },
  {
   "cell_type": "code",
   "execution_count": 11,
   "metadata": {
    "colab": {
     "base_uri": "https://localhost:8080/",
     "height": 111
    },
    "colab_type": "code",
    "executionInfo": {
     "elapsed": 562,
     "status": "ok",
     "timestamp": 1520005317086,
     "user": {
      "displayName": "Leonardo Edelman Wajnsztok",
      "photoUrl": "https://lh3.googleusercontent.com/a/default-user=s128",
      "userId": "102321387525694070198"
     },
     "user_tz": 180
    },
    "id": "2WLGdAg_Krkv",
    "outputId": "6382cfbf-787d-4c0d-c91d-4ab3bdf61e3a"
   },
   "outputs": [
    {
     "data": {
      "text/html": [
       "<div>\n",
       "<style scoped>\n",
       "    .dataframe tbody tr th:only-of-type {\n",
       "        vertical-align: middle;\n",
       "    }\n",
       "\n",
       "    .dataframe tbody tr th {\n",
       "        vertical-align: top;\n",
       "    }\n",
       "\n",
       "    .dataframe thead th {\n",
       "        text-align: right;\n",
       "    }\n",
       "</style>\n",
       "<table border=\"1\" class=\"dataframe\">\n",
       "  <thead>\n",
       "    <tr style=\"text-align: right;\">\n",
       "      <th></th>\n",
       "      <th>phrase</th>\n",
       "      <th>label</th>\n",
       "      <th>label_cat</th>\n",
       "    </tr>\n",
       "  </thead>\n",
       "  <tbody>\n",
       "    <tr>\n",
       "      <th>0</th>\n",
       "      <td>lig a televisa por favor.</td>\n",
       "      <td>ligar_um_aparelho</td>\n",
       "      <td>2</td>\n",
       "    </tr>\n",
       "    <tr>\n",
       "      <th>1</th>\n",
       "      <td>lig o ar condicionado.</td>\n",
       "      <td>ligar_um_aparelho</td>\n",
       "      <td>2</td>\n",
       "    </tr>\n",
       "  </tbody>\n",
       "</table>\n",
       "</div>"
      ],
      "text/plain": [
       "                      phrase              label  label_cat\n",
       "0  lig a televisa por favor.  ligar_um_aparelho          2\n",
       "1     lig o ar condicionado.  ligar_um_aparelho          2"
      ]
     },
     "execution_count": 11,
     "metadata": {},
     "output_type": "execute_result"
    }
   ],
   "source": [
    "df['phrase'] = df['phrase'].apply(lambda x: ' '.join([stemmer.stem(s) for s in x.split(' ')]))\n",
    "df.head(2)"
   ]
  },
  {
   "cell_type": "markdown",
   "metadata": {
    "colab_type": "text",
    "id": "SMMujk6_D1CC"
   },
   "source": [
    "## Train and test split"
   ]
  },
  {
   "cell_type": "code",
   "execution_count": 12,
   "metadata": {
    "colab": {},
    "colab_type": "code",
    "id": "YXfZt6vsxMf2"
   },
   "outputs": [],
   "source": [
    "from sklearn.model_selection import train_test_split\n",
    "\n",
    "trainData, testData, trainLabels, testLabels = train_test_split(df['phrase'], df['label_cat'], test_size=0.2, random_state=42)\n"
   ]
  },
  {
   "cell_type": "code",
   "execution_count": 13,
   "metadata": {
    "colab": {
     "base_uri": "https://localhost:8080/",
     "height": 34
    },
    "colab_type": "code",
    "executionInfo": {
     "elapsed": 575,
     "status": "ok",
     "timestamp": 1520005319581,
     "user": {
      "displayName": "Leonardo Edelman Wajnsztok",
      "photoUrl": "https://lh3.googleusercontent.com/a/default-user=s128",
      "userId": "102321387525694070198"
     },
     "user_tz": 180
    },
    "id": "XKJQonW6vd-h",
    "outputId": "1c2127a7-ac07-495a-a8de-c984c741d4bb"
   },
   "outputs": [
    {
     "data": {
      "text/plain": [
       "(248, 63, 248, 63)"
      ]
     },
     "execution_count": 13,
     "metadata": {},
     "output_type": "execute_result"
    }
   ],
   "source": [
    "len(trainData), len(testData), len(trainLabels), len(testLabels)"
   ]
  },
  {
   "cell_type": "markdown",
   "metadata": {
    "colab_type": "text",
    "id": "40e8j9fJEAZ2"
   },
   "source": [
    "## Classification models and parameters"
   ]
  },
  {
   "cell_type": "code",
   "execution_count": 18,
   "metadata": {
    "colab": {},
    "colab_type": "code",
    "id": "dq3BhhRkEoO-"
   },
   "outputs": [],
   "source": [
    "from sklearn.linear_model import SGDClassifier\n",
    "from sklearn.linear_model import LogisticRegression\n",
    "from sklearn.tree import DecisionTreeClassifier\n",
    "from sklearn.neighbors import KNeighborsClassifier\n",
    "from sklearn.discriminant_analysis import LinearDiscriminantAnalysis\n",
    "from sklearn.naive_bayes import GaussianNB\n",
    "from sklearn.svm import SVC\n",
    "from sklearn.svm import LinearSVC\n",
    "from sklearn.ensemble import GradientBoostingClassifier\n",
    "\n",
    "models = [\n",
    "    ('GradientBoostingClassifier', GradientBoostingClassifier(), {}),\n",
    "    ('SGD', SGDClassifier(loss=\"log\"), {}),\n",
    "]\n"
   ]
  },
  {
   "cell_type": "code",
   "execution_count": 19,
   "metadata": {
    "colab": {
     "base_uri": "https://localhost:8080/",
     "height": 1822
    },
    "colab_type": "code",
    "executionInfo": {
     "elapsed": 75631,
     "status": "ok",
     "timestamp": 1520005399244,
     "user": {
      "displayName": "Leonardo Edelman Wajnsztok",
      "photoUrl": "https://lh3.googleusercontent.com/a/default-user=s128",
      "userId": "102321387525694070198"
     },
     "user_tz": 180
    },
    "id": "LZzHp4BxFgya",
    "outputId": "426684dc-cd19-4c92-99ed-8975343ded12"
   },
   "outputs": [
    {
     "name": "stdout",
     "output_type": "stream",
     "text": [
      "Model: GradientBoostingClassifier\n",
      "Best cross-validation score: 0.8387096774193549\n",
      "Best parameters: {'tfidf__norm': 'l2', 'tfidf__use_idf': True, 'vect__max_df': 0.5, 'vect__max_features': 300, 'vect__ngram_range': (1, 1)}\n",
      "Accuracy: 0.873015873015873\n",
      "criar_regra               13 1  1  \n",
      "desligar_um_aparelho      0  16 3  \n",
      "ligar_um_aparelho         1  2  26 \n",
      "             precision    recall  f1-score   support\n",
      "\n",
      "          0       0.93      0.87      0.90        15\n",
      "          1       0.84      0.84      0.84        19\n",
      "          2       0.87      0.90      0.88        29\n",
      "\n",
      "avg / total       0.87      0.87      0.87        63\n",
      "\n",
      "Model: SGD\n",
      "Best cross-validation score: 0.8588709677419355\n",
      "Best parameters: {'tfidf__norm': 'l2', 'tfidf__use_idf': True, 'vect__max_df': 1.0, 'vect__max_features': 300, 'vect__ngram_range': (1, 1)}\n",
      "Accuracy: 0.9047619047619048\n",
      "criar_regra               11 1  3  \n",
      "desligar_um_aparelho      0  18 1  \n",
      "ligar_um_aparelho         0  1  28 \n",
      "             precision    recall  f1-score   support\n",
      "\n",
      "          0       1.00      0.73      0.85        15\n",
      "          1       0.90      0.95      0.92        19\n",
      "          2       0.88      0.97      0.92        29\n",
      "\n",
      "avg / total       0.91      0.90      0.90        63\n",
      "\n"
     ]
    }
   ],
   "source": [
    "from sklearn.pipeline import Pipeline\n",
    "from sklearn.feature_extraction.text import CountVectorizer\n",
    "from sklearn.feature_extraction.text import TfidfTransformer\n",
    "from sklearn.feature_extraction.text import strip_accents_ascii\n",
    "from sklearn.metrics import classification_report\n",
    "from sklearn.metrics import confusion_matrix\n",
    "from sklearn.model_selection import GridSearchCV\n",
    "\n",
    "results = []\n",
    "names = []\n",
    "best_model = None\n",
    "max_score = -1\n",
    "labels_list = ['criar_regra', 'desligar_um_aparelho', 'ligar_um_aparelho']\n",
    "\n",
    "for name, model, cls_params in models:\n",
    "    parameters = {\n",
    "      'vect__ngram_range': [(1, 1), (1, 2),],\n",
    "      'vect__max_features': (200, 300),\n",
    "      'vect__max_df': (0.5, 0.75, 1.0),\n",
    "      'tfidf__use_idf': (True, False),\n",
    "      'tfidf__norm': ('l1', 'l2'),\n",
    "    }\n",
    "  \n",
    "    print (\"Training model {}\".format(name))\n",
    "    parameters.update(cls_params)\n",
    "    pipe = Pipeline([('vect', CountVectorizer()),\n",
    "                   ('tfidf', TfidfTransformer()),\n",
    "                   ('clf', model)])\n",
    "  \n",
    "    gs_cls = GridSearchCV(pipe, parameters, n_jobs=1)\n",
    "    gs_cls = gs_cls.fit(trainData, trainLabels)\n",
    "  \n",
    "    print (\"Best cross-validation score: \" + str(gs_cls.best_score_))\n",
    "    print (\"Best parameters: \" + str(gs_cls.best_params_))\n",
    "    predictions = gs_cls.predict(testData)\n",
    "    score = gs_cls.score(testData, testLabels)\n",
    "    if score > max_score:\n",
    "        max_score = score\n",
    "        best_model = gs_cls\n",
    "\n",
    "    print (\"Accuracy: \" + str(score))\n",
    "    cm = confusion_matrix(testLabels, predictions)\n",
    "    for i, l in enumerate(cm):\n",
    "        print ('{0: <25} {1}'.format(labels_list[i], ''.join(['{0: <3}'.format(x) for x in l])))\n",
    "    print (classification_report(testLabels, predictions))\n",
    "\n",
    "    result_df = pd.DataFrame(list(zip(testData,testLabels)))\n",
    "    result_df['pred'] = predictions\n",
    "    result_df[result_df[1] != result_df['pred']]\n",
    "\n",
    "    names.append(name)\n",
    "    results.append(score)\n",
    "    model = gs_cls"
   ]
  },
  {
   "cell_type": "markdown",
   "metadata": {
    "colab_type": "text",
    "id": "Wpoi_0V0FXuO"
   },
   "source": [
    "## Results"
   ]
  },
  {
   "cell_type": "markdown",
   "metadata": {
    "colab_type": "text",
    "id": "BpMpWmBEFbGY"
   },
   "source": [
    "### Models accuracy"
   ]
  },
  {
   "cell_type": "code",
   "execution_count": null,
   "metadata": {
    "colab": {
     "base_uri": "https://localhost:8080/",
     "height": 417
    },
    "colab_type": "code",
    "executionInfo": {
     "elapsed": 795,
     "status": "ok",
     "timestamp": 1519992877805,
     "user": {
      "displayName": "Leonardo Edelman Wajnsztok",
      "photoUrl": "https://lh3.googleusercontent.com/a/default-user=s128",
      "userId": "102321387525694070198"
     },
     "user_tz": 180
    },
    "id": "03S10OyTPAt0",
    "outputId": "c92ccd74-ceaf-4e51-8b87-3ea368bbf083"
   },
   "outputs": [],
   "source": [
    "import matplotlib\n",
    "from matplotlib import pyplot as plt\n",
    "\n",
    "fig, ax = plt.subplots(1,1, figsize=(16, 6))\n",
    "fig.suptitle('Algorithims Accuracy Comparison')\n",
    "plt.bar(names, results, )\n",
    "plt.ylim(0,1)\n",
    "plt.yticks(np.arange(0,1.1,0.1))\n",
    "for i, v in enumerate(names):\n",
    "    ax.text(v, results[i] + 0.05, '%.4f' %(results[i]), ha='center', va='center')\n",
    "\n",
    "    \n",
    "plt.show()"
   ]
  },
  {
   "cell_type": "code",
   "execution_count": 22,
   "metadata": {
    "colab": {
     "base_uri": "https://localhost:8080/",
     "height": 68
    },
    "colab_type": "code",
    "executionInfo": {
     "elapsed": 543,
     "status": "ok",
     "timestamp": 1519993461159,
     "user": {
      "displayName": "Leonardo Edelman Wajnsztok",
      "photoUrl": "https://lh3.googleusercontent.com/a/default-user=s128",
      "userId": "102321387525694070198"
     },
     "user_tz": 180
    },
    "id": "XVDSyPOso1px",
    "outputId": "0b8bd143-6561-4445-b9c1-85a560413170"
   },
   "outputs": [],
   "source": [
    "def predict(sent):\n",
    "    sent = sent.lower()\n",
    "    sent =  sent.encode('ascii', errors='ignore').decode('utf-8')\n",
    "    sent = ' '.join([stemmer.stem(s) for s in sent.split(' ')])\n",
    "    return labels_list[best_model.predict([sent])[0]]\n"
   ]
  },
  {
   "cell_type": "code",
   "execution_count": 23,
   "metadata": {},
   "outputs": [
    {
     "name": "stdout",
     "output_type": "stream",
     "text": [
      "ligar_um_aparelho\n"
     ]
    }
   ],
   "source": [
    "print (predict('liga o ar ai por favor'))"
   ]
  },
  {
   "cell_type": "code",
   "execution_count": 24,
   "metadata": {},
   "outputs": [
    {
     "name": "stdout",
     "output_type": "stream",
     "text": [
      "desligar_um_aparelho\n"
     ]
    }
   ],
   "source": [
    "print (predict('ta na hora de apagar a luz.'))"
   ]
  },
  {
   "cell_type": "markdown",
   "metadata": {
    "colab_type": "text",
    "id": "jcUS5N1ArLn7"
   },
   "source": [
    "## Save model"
   ]
  },
  {
   "cell_type": "code",
   "execution_count": 25,
   "metadata": {
    "colab": {},
    "colab_type": "code",
    "id": "mAF1fAwtrP06"
   },
   "outputs": [],
   "source": [
    "import pickle\n",
    "\n",
    "filename = '../api/models/intent_model.sav' \n",
    "with open(filename, 'wb') as f:\n",
    "    pickle.dump(best_model, f, protocol=2)"
   ]
  },
  {
   "cell_type": "code",
   "execution_count": null,
   "metadata": {},
   "outputs": [],
   "source": []
  }
 ],
 "metadata": {
  "accelerator": "GPU",
  "colab": {
   "collapsed_sections": [
    "nBB8ZsqKQihi"
   ],
   "name": "intent_classifier.ipnb",
   "provenance": [],
   "version": "0.3.2"
  },
  "kernelspec": {
   "display_name": "Python 3",
   "language": "python",
   "name": "python3"
  },
  "language_info": {
   "codemirror_mode": {
    "name": "ipython",
    "version": 3
   },
   "file_extension": ".py",
   "mimetype": "text/x-python",
   "name": "python",
   "nbconvert_exporter": "python",
   "pygments_lexer": "ipython3",
   "version": "3.6.8"
  }
 },
 "nbformat": 4,
 "nbformat_minor": 2
}
