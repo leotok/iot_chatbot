{
 "cells": [
  {
   "cell_type": "markdown",
   "metadata": {
    "colab_type": "text",
    "id": "TBpTtsBucKQB"
   },
   "source": [
    "## Setup"
   ]
  },
  {
   "cell_type": "code",
   "execution_count": 1,
   "metadata": {
    "colab": {
     "autoexec": {
      "startup": false,
      "wait_interval": 0
     },
     "base_uri": "https://localhost:8080/",
     "height": 683,
     "output_extras": [
      {
       "item_id": 7
      },
      {
       "item_id": 9
      }
     ]
    },
    "colab_type": "code",
    "executionInfo": {
     "elapsed": 14597,
     "status": "ok",
     "timestamp": 1522440548301,
     "user": {
      "displayName": "Leonardo Edelman Wajnsztok",
      "photoUrl": "https://lh3.googleusercontent.com/a/default-user=s128",
      "userId": "102321387525694070198"
     },
     "user_tz": 180
    },
    "id": "kf4RI8HsaaAs",
    "outputId": "45dcb2ef-90a6-4cdc-d052-ce83c828e6db"
   },
   "outputs": [
    {
     "name": "stdout",
     "output_type": "stream",
     "text": [
      "Requirement already satisfied: pt_core_news_sm==2.1.0 from https://github.com/explosion/spacy-models/releases/download/pt_core_news_sm-2.1.0/pt_core_news_sm-2.1.0.tar.gz#egg=pt_core_news_sm==2.1.0 in /usr/local/lib/python3.6/site-packages (2.1.0)\n",
      "\u001b[33mYou are using pip version 19.0.3, however version 19.2.1 is available.\n",
      "You should consider upgrading via the 'pip install --upgrade pip' command.\u001b[0m\n",
      "\u001b[38;5;2m✔ Download and installation successful\u001b[0m\n",
      "You can now load the model via spacy.load('pt_core_news_sm')\n",
      "\u001b[38;5;2m✔ Linking successful\u001b[0m\n",
      "/usr/local/lib/python3.6/site-packages/pt_core_news_sm -->\n",
      "/usr/local/lib/python3.6/site-packages/spacy/data/pt\n",
      "You can now load the model via spacy.load('pt')\n"
     ]
    }
   ],
   "source": [
    "!python -m spacy download pt"
   ]
  },
  {
   "cell_type": "code",
   "execution_count": 2,
   "metadata": {},
   "outputs": [
    {
     "name": "stderr",
     "output_type": "stream",
     "text": [
      "/usr/local/lib/python3.6/importlib/_bootstrap.py:219: RuntimeWarning: numpy.dtype size changed, may indicate binary incompatibility. Expected 96, got 88\n",
      "  return f(*args, **kwds)\n",
      "/usr/local/lib/python3.6/importlib/_bootstrap.py:219: RuntimeWarning: numpy.dtype size changed, may indicate binary incompatibility. Expected 96, got 88\n",
      "  return f(*args, **kwds)\n"
     ]
    }
   ],
   "source": [
    "import pandas as pd\n",
    "import numpy as np"
   ]
  },
  {
   "cell_type": "code",
   "execution_count": 3,
   "metadata": {
    "colab": {
     "autoexec": {
      "startup": false,
      "wait_interval": 0
     }
    },
    "colab_type": "code",
    "id": "ND_pQ2gQqxBv"
   },
   "outputs": [],
   "source": [
    "import warnings\n",
    "warnings.filterwarnings(\"ignore\", category=DeprecationWarning)"
   ]
  },
  {
   "cell_type": "markdown",
   "metadata": {
    "colab_type": "text",
    "id": "UqUBQrXTcOZP"
   },
   "source": [
    "## Load dataset"
   ]
  },
  {
   "cell_type": "code",
   "execution_count": 20,
   "metadata": {
    "colab": {
     "autoexec": {
      "startup": false,
      "wait_interval": 0
     }
    },
    "colab_type": "code",
    "id": "jE3nFVFM3NPv"
   },
   "outputs": [],
   "source": [
    "initial_df = pd.read_csv('../data/CSV/entities/dataset_device_entities_annotated.csv')"
   ]
  },
  {
   "cell_type": "markdown",
   "metadata": {
    "colab_type": "text",
    "id": "TrtXtiqGuBdl"
   },
   "source": [
    "## Preprocess"
   ]
  },
  {
   "cell_type": "code",
   "execution_count": 21,
   "metadata": {
    "colab": {
     "autoexec": {
      "startup": false,
      "wait_interval": 0
     }
    },
    "colab_type": "code",
    "id": "j-mPrlUK3Wyv"
   },
   "outputs": [],
   "source": [
    "initial_df['original'] = initial_df['original'].str.normalize('NFKD').str.encode('ascii', errors='ignore').str.decode('utf-8')\n",
    "initial_df['anottated'] = initial_df['anottated'].str.normalize('NFKD').str.encode('ascii', errors='ignore').str.decode('utf-8')\n"
   ]
  },
  {
   "cell_type": "code",
   "execution_count": 22,
   "metadata": {
    "colab": {
     "autoexec": {
      "startup": false,
      "wait_interval": 0
     }
    },
    "colab_type": "code",
    "id": "JZRCfUXfqy07"
   },
   "outputs": [],
   "source": [
    "import spacy\n",
    "nlp = spacy.load('pt')"
   ]
  },
  {
   "cell_type": "code",
   "execution_count": 23,
   "metadata": {
    "colab": {
     "autoexec": {
      "startup": false,
      "wait_interval": 0
     },
     "base_uri": "https://localhost:8080/",
     "height": 34,
     "output_extras": [
      {
       "item_id": 1
      }
     ]
    },
    "colab_type": "code",
    "executionInfo": {
     "elapsed": 831,
     "status": "ok",
     "timestamp": 1522440621120,
     "user": {
      "displayName": "Leonardo Edelman Wajnsztok",
      "photoUrl": "https://lh3.googleusercontent.com/a/default-user=s128",
      "userId": "102321387525694070198"
     },
     "user_tz": 180
    },
    "id": "e2D01Nh3e40-",
    "outputId": "a72f96ea-6ed5-4d7b-831e-17093e6bf5fa"
   },
   "outputs": [],
   "source": [
    "pos_tags = [\n",
    "    'POS', 'PUNCT', 'SYM','ADJ',\n",
    "    'NUM', 'DET', 'ADV', 'ADP',\n",
    "    'X', 'VERB', 'CCONJ', 'NOUN',\n",
    "    'PROPN', 'PART', 'INTJ', 'SPACE',\n",
    "    'PRON', 'SCONJ', 'AUX', 'CONJ',\n",
    "    'START', 'END',\n",
    "]\n",
    "\n",
    "labels_list = ['B-DEVICE','I-DEVICE','o']"
   ]
  },
  {
   "cell_type": "code",
   "execution_count": 24,
   "metadata": {},
   "outputs": [
    {
     "data": {
      "text/plain": [
       "LabelEncoder()"
      ]
     },
     "execution_count": 24,
     "metadata": {},
     "output_type": "execute_result"
    }
   ],
   "source": [
    "from sklearn import preprocessing\n",
    "\n",
    "pos_tags_hotencoder = preprocessing.LabelBinarizer()\n",
    "pos_tags_hotencoder.fit(pos_tags)\n",
    "\n",
    "labels_encoder = preprocessing.LabelEncoder()\n",
    "labels_encoder.fit(labels_list)"
   ]
  },
  {
   "cell_type": "code",
   "execution_count": 25,
   "metadata": {
    "colab": {
     "autoexec": {
      "startup": false,
      "wait_interval": 0
     }
    },
    "colab_type": "code",
    "id": "xvFdcFiN8xzy"
   },
   "outputs": [],
   "source": [
    "def has_digit(string):\n",
    "    return int(bool(re.match(r'\\d', string)))\n",
    "\n",
    "def is_hour_format(string):\n",
    "    return int(bool(re.match(r'^[0-9]{1,2}h([0-9]{2,2})?$', string)))\n",
    "\n",
    "def is_de(string):\n",
    "    return int(string in ['de', 'da', 'do'])\n",
    "\n",
    "def generate_features(doc, pos):\n",
    "    len_doc = len(doc)\n",
    "    features = []\n",
    "    token = doc[pos]\n",
    "    features.append(has_digit(token.text))\n",
    "    features.append(is_hour_format(token.text))\n",
    "    features.append(is_de(token.text))\n",
    "    for i in [-3,-2,-1, 0,1,2,3]:\n",
    "        feat_pos = pos + i\n",
    "        if feat_pos < 0:\n",
    "            features.append('START')\n",
    "        elif feat_pos >= len_doc:\n",
    "            features.append('END')\n",
    "        else:\n",
    "            features.append(doc[feat_pos].pos_)\n",
    "    return features"
   ]
  },
  {
   "cell_type": "code",
   "execution_count": 26,
   "metadata": {},
   "outputs": [],
   "source": [
    "columns = ['f{}'.format(i) for i in range(10)]\n",
    "columns.append('label')\n",
    "\n",
    "features_df = pd.DataFrame(columns=columns)"
   ]
  },
  {
   "cell_type": "code",
   "execution_count": 27,
   "metadata": {
    "colab": {
     "autoexec": {
      "startup": false,
      "wait_interval": 0
     }
    },
    "colab_type": "code",
    "id": "KEysukUu9Lvl"
   },
   "outputs": [],
   "source": [
    "import re\n",
    "\n",
    "for index, row in initial_df.iterrows():\n",
    "    doc = nlp(row['original'])\n",
    "    labels = re.findall('\\[@(.*?)\\*\\]', row['anottated'])\n",
    "    labels_map = {k: v for k, v in [l.split('#') for l in labels]}  \n",
    "    for token_index, token in enumerate(doc):\n",
    "        new_row = generate_features(doc, token_index)\n",
    "        label = labels_map.get(token.text, 'o')\n",
    "        new_row.append(label)\n",
    "        features_df = features_df.append(pd.DataFrame([new_row], columns=columns))\n",
    "    "
   ]
  },
  {
   "cell_type": "code",
   "execution_count": 28,
   "metadata": {},
   "outputs": [
    {
     "data": {
      "text/html": [
       "<div>\n",
       "<style scoped>\n",
       "    .dataframe tbody tr th:only-of-type {\n",
       "        vertical-align: middle;\n",
       "    }\n",
       "\n",
       "    .dataframe tbody tr th {\n",
       "        vertical-align: top;\n",
       "    }\n",
       "\n",
       "    .dataframe thead th {\n",
       "        text-align: right;\n",
       "    }\n",
       "</style>\n",
       "<table border=\"1\" class=\"dataframe\">\n",
       "  <thead>\n",
       "    <tr style=\"text-align: right;\">\n",
       "      <th></th>\n",
       "      <th>f0</th>\n",
       "      <th>f1</th>\n",
       "      <th>f2</th>\n",
       "      <th>f3</th>\n",
       "      <th>f4</th>\n",
       "      <th>f5</th>\n",
       "      <th>f6</th>\n",
       "      <th>f7</th>\n",
       "      <th>f8</th>\n",
       "      <th>f9</th>\n",
       "      <th>label</th>\n",
       "    </tr>\n",
       "  </thead>\n",
       "  <tbody>\n",
       "    <tr>\n",
       "      <th>0</th>\n",
       "      <td>0</td>\n",
       "      <td>0</td>\n",
       "      <td>0</td>\n",
       "      <td>START</td>\n",
       "      <td>START</td>\n",
       "      <td>START</td>\n",
       "      <td>VERB</td>\n",
       "      <td>DET</td>\n",
       "      <td>NOUN</td>\n",
       "      <td>ADP</td>\n",
       "      <td>o</td>\n",
       "    </tr>\n",
       "    <tr>\n",
       "      <th>0</th>\n",
       "      <td>0</td>\n",
       "      <td>0</td>\n",
       "      <td>0</td>\n",
       "      <td>START</td>\n",
       "      <td>START</td>\n",
       "      <td>VERB</td>\n",
       "      <td>DET</td>\n",
       "      <td>NOUN</td>\n",
       "      <td>ADP</td>\n",
       "      <td>NOUN</td>\n",
       "      <td>o</td>\n",
       "    </tr>\n",
       "    <tr>\n",
       "      <th>0</th>\n",
       "      <td>0</td>\n",
       "      <td>0</td>\n",
       "      <td>0</td>\n",
       "      <td>START</td>\n",
       "      <td>VERB</td>\n",
       "      <td>DET</td>\n",
       "      <td>NOUN</td>\n",
       "      <td>ADP</td>\n",
       "      <td>NOUN</td>\n",
       "      <td>PUNCT</td>\n",
       "      <td>B-DEVICE</td>\n",
       "    </tr>\n",
       "    <tr>\n",
       "      <th>0</th>\n",
       "      <td>0</td>\n",
       "      <td>0</td>\n",
       "      <td>0</td>\n",
       "      <td>VERB</td>\n",
       "      <td>DET</td>\n",
       "      <td>NOUN</td>\n",
       "      <td>ADP</td>\n",
       "      <td>NOUN</td>\n",
       "      <td>PUNCT</td>\n",
       "      <td>END</td>\n",
       "      <td>o</td>\n",
       "    </tr>\n",
       "    <tr>\n",
       "      <th>0</th>\n",
       "      <td>0</td>\n",
       "      <td>0</td>\n",
       "      <td>0</td>\n",
       "      <td>DET</td>\n",
       "      <td>NOUN</td>\n",
       "      <td>ADP</td>\n",
       "      <td>NOUN</td>\n",
       "      <td>PUNCT</td>\n",
       "      <td>END</td>\n",
       "      <td>END</td>\n",
       "      <td>o</td>\n",
       "    </tr>\n",
       "  </tbody>\n",
       "</table>\n",
       "</div>"
      ],
      "text/plain": [
       "  f0 f1 f2     f3     f4     f5    f6     f7     f8     f9     label\n",
       "0  0  0  0  START  START  START  VERB    DET   NOUN    ADP         o\n",
       "0  0  0  0  START  START   VERB   DET   NOUN    ADP   NOUN         o\n",
       "0  0  0  0  START   VERB    DET  NOUN    ADP   NOUN  PUNCT  B-DEVICE\n",
       "0  0  0  0   VERB    DET   NOUN   ADP   NOUN  PUNCT    END         o\n",
       "0  0  0  0    DET   NOUN    ADP  NOUN  PUNCT    END    END         o"
      ]
     },
     "execution_count": 28,
     "metadata": {},
     "output_type": "execute_result"
    }
   ],
   "source": [
    "features_df.head()"
   ]
  },
  {
   "cell_type": "code",
   "execution_count": 29,
   "metadata": {
    "colab": {
     "autoexec": {
      "startup": false,
      "wait_interval": 0
     },
     "base_uri": "https://localhost:8080/",
     "height": 493,
     "output_extras": [
      {
       "item_id": 1
      }
     ]
    },
    "colab_type": "code",
    "executionInfo": {
     "elapsed": 652,
     "status": "ok",
     "timestamp": 1522448492548,
     "user": {
      "displayName": "Leonardo Edelman Wajnsztok",
      "photoUrl": "https://lh3.googleusercontent.com/a/default-user=s128",
      "userId": "102321387525694070198"
     },
     "user_tz": 180
    },
    "id": "8iDUf5I_kYA_",
    "outputId": "6e6027b2-40db-4144-fc45-123f04a0a031"
   },
   "outputs": [
    {
     "name": "stdout",
     "output_type": "stream",
     "text": [
      "label\n",
      "B-DEVICE     260\n",
      "I-DEVICE      84\n",
      "o           1786\n",
      "dtype: int64\n",
      "label\n",
      "B-DEVICE     139\n",
      "I-DEVICE      42\n",
      "o           1158\n",
      "dtype: int64\n",
      "(2130, 12)\n",
      "(1339, 12)\n",
      "   f0  f1  f2   f3   f4     f5    f6    f7     f8   f9 label  label_\n",
      "0   0   0   0  ADJ  ADJ    ADP  NOUN   END    END  END     o       2\n",
      "1   0   0   0  ADJ  ADJ  CCONJ   ADJ   END    END  END     o       2\n",
      "2   0   0   0  ADJ  ADJ   NOUN   DET   NUM  CCONJ    X     o       2\n",
      "3   0   0   0  ADJ  ADP   NOUN   ADJ   END    END  END     o       2\n",
      "4   0   0   0  ADJ  ADP   NOUN   ADP  NOUN    END  END     o       2\n"
     ]
    }
   ],
   "source": [
    "print (features_df.groupby('label').size())\n",
    "\n",
    "features_unique_df = features_df.groupby(columns).size().reset_index(name='count')\n",
    "features_unique_df = features_unique_df.drop('count', axis=1)\n",
    "\n",
    "print (features_unique_df.groupby('label').size())\n",
    "\n",
    "features_df['label_'] = labels_encoder.transform(features_df['label'])\n",
    "features_unique_df['label_'] = labels_encoder.transform(features_unique_df['label'])\n",
    "\n",
    "print (features_df.shape)\n",
    "print (features_unique_df.shape)\n",
    "print (features_unique_df.head())"
   ]
  },
  {
   "cell_type": "code",
   "execution_count": 30,
   "metadata": {
    "colab": {
     "autoexec": {
      "startup": false,
      "wait_interval": 0
     },
     "base_uri": "https://localhost:8080/",
     "height": 275,
     "output_extras": [
      {
       "item_id": 1
      }
     ]
    },
    "colab_type": "code",
    "executionInfo": {
     "elapsed": 572,
     "status": "ok",
     "timestamp": 1522448493742,
     "user": {
      "displayName": "Leonardo Edelman Wajnsztok",
      "photoUrl": "https://lh3.googleusercontent.com/a/default-user=s128",
      "userId": "102321387525694070198"
     },
     "user_tz": 180
    },
    "id": "wgfcopRjRo_v",
    "outputId": "70d38315-bd75-48c2-e568-87492c916405"
   },
   "outputs": [
    {
     "data": {
      "text/html": [
       "<div>\n",
       "<style scoped>\n",
       "    .dataframe tbody tr th:only-of-type {\n",
       "        vertical-align: middle;\n",
       "    }\n",
       "\n",
       "    .dataframe tbody tr th {\n",
       "        vertical-align: top;\n",
       "    }\n",
       "\n",
       "    .dataframe thead th {\n",
       "        text-align: right;\n",
       "    }\n",
       "</style>\n",
       "<table border=\"1\" class=\"dataframe\">\n",
       "  <thead>\n",
       "    <tr style=\"text-align: right;\">\n",
       "      <th></th>\n",
       "      <th>f0</th>\n",
       "      <th>f1</th>\n",
       "      <th>f2</th>\n",
       "      <th>label</th>\n",
       "      <th>label_</th>\n",
       "      <th>f3_ADJ</th>\n",
       "      <th>f3_ADP</th>\n",
       "      <th>f3_ADV</th>\n",
       "      <th>f3_AUX</th>\n",
       "      <th>f3_CCONJ</th>\n",
       "      <th>...</th>\n",
       "      <th>f9_END</th>\n",
       "      <th>f9_NOUN</th>\n",
       "      <th>f9_NUM</th>\n",
       "      <th>f9_PRON</th>\n",
       "      <th>f9_PROPN</th>\n",
       "      <th>f9_PUNCT</th>\n",
       "      <th>f9_SCONJ</th>\n",
       "      <th>f9_SYM</th>\n",
       "      <th>f9_VERB</th>\n",
       "      <th>f9_X</th>\n",
       "    </tr>\n",
       "  </thead>\n",
       "  <tbody>\n",
       "    <tr>\n",
       "      <th>0</th>\n",
       "      <td>0</td>\n",
       "      <td>0</td>\n",
       "      <td>0</td>\n",
       "      <td>o</td>\n",
       "      <td>2</td>\n",
       "      <td>0</td>\n",
       "      <td>0</td>\n",
       "      <td>0</td>\n",
       "      <td>0</td>\n",
       "      <td>0</td>\n",
       "      <td>...</td>\n",
       "      <td>0</td>\n",
       "      <td>0</td>\n",
       "      <td>0</td>\n",
       "      <td>0</td>\n",
       "      <td>0</td>\n",
       "      <td>0</td>\n",
       "      <td>0</td>\n",
       "      <td>0</td>\n",
       "      <td>0</td>\n",
       "      <td>0</td>\n",
       "    </tr>\n",
       "  </tbody>\n",
       "</table>\n",
       "<p>1 rows × 112 columns</p>\n",
       "</div>"
      ],
      "text/plain": [
       "  f0 f1 f2 label  label_  f3_ADJ  f3_ADP  f3_ADV  f3_AUX  f3_CCONJ  ...   \\\n",
       "0  0  0  0     o       2       0       0       0       0         0  ...    \n",
       "\n",
       "   f9_END  f9_NOUN  f9_NUM  f9_PRON  f9_PROPN  f9_PUNCT  f9_SCONJ  f9_SYM  \\\n",
       "0       0        0       0        0         0         0         0       0   \n",
       "\n",
       "   f9_VERB  f9_X  \n",
       "0        0     0  \n",
       "\n",
       "[1 rows x 112 columns]"
      ]
     },
     "execution_count": 30,
     "metadata": {},
     "output_type": "execute_result"
    }
   ],
   "source": [
    "# only has features for existing categories on dataset\n",
    "feat_encoded = pd.get_dummies(features_df, columns=features_df.columns[3:-2])\n",
    "feat_encoded.head(1)"
   ]
  },
  {
   "cell_type": "code",
   "execution_count": 31,
   "metadata": {},
   "outputs": [
    {
     "name": "stdout",
     "output_type": "stream",
     "text": [
      "['f7_SYM', 'f5_PRON', 'f7_ADJ', 'f8_SYM', 'f6_PROPN', 'f3_START', 'f4_START', 'f4_NUM', 'f8_ADV', 'f6_NOUN', 'f3_PUNCT', 'f8_CCONJ', 'f8_PRON', 'f5_ADV', 'f8_PROPN', 'f8_PUNCT', 'f9_ADV', 'f6_DET', 'f6_SCONJ', 'f3_SYM', 'f9_PROPN', 'f4_PROPN', 'f6_NUM', 'f5_CCONJ', 'f5_ADJ', 'f4_NOUN', 'f4_PRON', 'f3_CCONJ', 'f4_DET', 'f7_PRON', 'f4_CCONJ', 'f6_SYM', 'f4_ADP', 'f3_ADJ', 'f3_NUM', 'f9_DET', 'f7_AUX', 'f5_SYM', 'f2', 'f9_ADJ', 'f9_ADP', 'f7_NUM', 'f3_SCONJ', 'f6_ADV', 'f5_DET', 'f6_CCONJ', 'f5_NUM', 'f6_PUNCT', 'f4_VERB', 'f3_ADV', 'f4_PUNCT', 'f9_X', 'f8_VERB', 'f4_AUX', 'f3_PRON', 'f3_NOUN', 'f8_ADP', 'f9_SCONJ', 'f5_ADP', 'f9_CCONJ', 'f3_AUX', 'f3_ADP', 'f9_NOUN', 'f7_X', 'f4_SCONJ', 'f5_PROPN', 'f3_DET', 'f6_VERB', 'f5_PUNCT', 'f5_NOUN', 'f8_NOUN', 'f6_AUX', 'f7_ADP', 'f7_PROPN', 'f7_END', 'f9_VERB', 'f7_SCONJ', 'f6_ADJ', 'f7_PUNCT', 'f9_PRON', 'f5_START', 'f3_VERB', 'f6_ADP', 'f9_NUM', 'f7_NOUN', 'f5_SCONJ', 'f3_PROPN', 'f8_END', 'f7_CCONJ', 'f0', 'f4_ADJ', 'f6_PRON', 'f1', 'f9_SYM', 'f9_PUNCT', 'f7_ADV', 'f8_NUM', 'f8_SCONJ', 'f6_X', 'f7_VERB', 'f8_AUX', 'f5_AUX', 'f5_VERB', 'f8_X', 'f7_DET', 'f4_ADV', 'f8_DET', 'f9_END', 'f8_ADJ', 'f4_SYM']\n"
     ]
    }
   ],
   "source": [
    "features_columns = list(set(feat_encoded.columns) - {'label', 'label_'})\n",
    "\n",
    "print (features_columns)"
   ]
  },
  {
   "cell_type": "code",
   "execution_count": 32,
   "metadata": {},
   "outputs": [
    {
     "data": {
      "text/plain": [
       "110"
      ]
     },
     "execution_count": 32,
     "metadata": {},
     "output_type": "execute_result"
    }
   ],
   "source": [
    "len(features_columns)"
   ]
  },
  {
   "cell_type": "code",
   "execution_count": 33,
   "metadata": {
    "colab": {
     "autoexec": {
      "startup": false,
      "wait_interval": 0
     },
     "base_uri": "https://localhost:8080/",
     "height": 34,
     "output_extras": [
      {
       "item_id": 1
      }
     ]
    },
    "colab_type": "code",
    "executionInfo": {
     "elapsed": 539,
     "status": "ok",
     "timestamp": 1522448495100,
     "user": {
      "displayName": "Leonardo Edelman Wajnsztok",
      "photoUrl": "https://lh3.googleusercontent.com/a/default-user=s128",
      "userId": "102321387525694070198"
     },
     "user_tz": 180
    },
    "id": "0UlknZz4mIoA",
    "outputId": "67cc80c6-4849-47fe-e80d-0d05d9d0a3d6"
   },
   "outputs": [
    {
     "data": {
      "text/plain": [
       "(1704, 426, 1704, 426)"
      ]
     },
     "execution_count": 33,
     "metadata": {},
     "output_type": "execute_result"
    }
   ],
   "source": [
    "from sklearn.model_selection import train_test_split\n",
    "\n",
    "trainData, testData, trainLabels, testLabels = train_test_split(feat_encoded[features_columns], feat_encoded['label_'], test_size=0.2, random_state=42)\n",
    "testLabels = testLabels.astype(int)\n",
    "trainLabels = trainLabels.astype(int)\n",
    "len(trainData), len(testData), len(trainLabels), len(testLabels)"
   ]
  },
  {
   "cell_type": "code",
   "execution_count": 34,
   "metadata": {
    "colab": {
     "autoexec": {
      "startup": false,
      "wait_interval": 0
     },
     "base_uri": "https://localhost:8080/",
     "height": 34,
     "output_extras": [
      {
       "item_id": 1
      }
     ]
    },
    "colab_type": "code",
    "executionInfo": {
     "elapsed": 496,
     "status": "ok",
     "timestamp": 1522448495778,
     "user": {
      "displayName": "Leonardo Edelman Wajnsztok",
      "photoUrl": "https://lh3.googleusercontent.com/a/default-user=s128",
      "userId": "102321387525694070198"
     },
     "user_tz": 180
    },
    "id": "OaJzqlZQxhio",
    "outputId": "eafd9d66-4c48-48ee-9006-b60e0192f3d2"
   },
   "outputs": [
    {
     "data": {
      "text/plain": [
       "(110, 110)"
      ]
     },
     "execution_count": 34,
     "metadata": {},
     "output_type": "execute_result"
    }
   ],
   "source": [
    "len(trainData.columns), len(testData.columns)"
   ]
  },
  {
   "cell_type": "markdown",
   "metadata": {
    "colab_type": "text",
    "id": "PcV4XUytcaNb"
   },
   "source": [
    "## Classifier"
   ]
  },
  {
   "cell_type": "code",
   "execution_count": 36,
   "metadata": {
    "colab": {
     "autoexec": {
      "startup": false,
      "wait_interval": 0
     }
    },
    "colab_type": "code",
    "id": "C8Yg2RWrx4ck"
   },
   "outputs": [],
   "source": [
    "from sklearn.linear_model import SGDClassifier\n",
    "from sklearn.linear_model import LogisticRegression\n",
    "from sklearn.tree import DecisionTreeClassifier\n",
    "from sklearn.neighbors import KNeighborsClassifier\n",
    "from sklearn.discriminant_analysis import LinearDiscriminantAnalysis\n",
    "from sklearn.naive_bayes import GaussianNB\n",
    "from sklearn.svm import SVC\n",
    "from sklearn.svm import LinearSVC\n",
    "from sklearn.ensemble import GradientBoostingClassifier\n",
    "from sklearn.ensemble import RandomForestClassifier\n",
    "\n",
    "models = [\n",
    "    ('GradientBoostingClassifier', GradientBoostingClassifier(), {}),\n",
    "    ('LinearSVC', LinearSVC(), {}),\n",
    "    ('SGD', SGDClassifier(), {}),\n",
    "]"
   ]
  },
  {
   "cell_type": "code",
   "execution_count": 37,
   "metadata": {
    "colab": {
     "autoexec": {
      "startup": false,
      "wait_interval": 0
     },
     "base_uri": "https://localhost:8080/",
     "height": 2601,
     "output_extras": [
      {
       "item_id": 7
      }
     ]
    },
    "colab_type": "code",
    "executionInfo": {
     "elapsed": 16729,
     "status": "ok",
     "timestamp": 1522448513889,
     "user": {
      "displayName": "Leonardo Edelman Wajnsztok",
      "photoUrl": "https://lh3.googleusercontent.com/a/default-user=s128",
      "userId": "102321387525694070198"
     },
     "user_tz": 180
    },
    "id": "LXGqTKvux9gh",
    "outputId": "c663e77a-6f69-47f6-e54d-f136bb96fabc"
   },
   "outputs": [
    {
     "name": "stdout",
     "output_type": "stream",
     "text": [
      "Model: GradientBoostingClassifier\n",
      "Best cross-validation score: 0.9383802816901409\n",
      "Best parameters: {}\n",
      "Accuracy: 0.9624413145539906\n",
      "B-DEVICE   44 1  7  \n",
      "I-DEVICE   0  10 3  \n",
      "o          5  0  356\n",
      "             precision    recall  f1-score   support\n",
      "\n",
      "          0       0.90      0.85      0.87        52\n",
      "          1       0.91      0.77      0.83        13\n",
      "          2       0.97      0.99      0.98       361\n",
      "\n",
      "avg / total       0.96      0.96      0.96       426\n",
      "\n",
      "Model: LinearSVC\n",
      "Best cross-validation score: 0.9395539906103286\n",
      "Best parameters: {}\n",
      "Accuracy: 0.960093896713615\n",
      "B-DEVICE   46 1  5  \n",
      "I-DEVICE   0  10 3  \n",
      "o          7  1  353\n",
      "             precision    recall  f1-score   support\n",
      "\n",
      "          0       0.87      0.88      0.88        52\n",
      "          1       0.83      0.77      0.80        13\n",
      "          2       0.98      0.98      0.98       361\n",
      "\n",
      "avg / total       0.96      0.96      0.96       426\n",
      "\n",
      "Model: SGD\n",
      "Best cross-validation score: 0.9307511737089202\n",
      "Best parameters: {}\n",
      "Accuracy: 0.9483568075117371\n",
      "B-DEVICE   48 1  3  \n",
      "I-DEVICE   0  10 3  \n",
      "o          14 1  346\n",
      "             precision    recall  f1-score   support\n",
      "\n",
      "          0       0.77      0.92      0.84        52\n",
      "          1       0.83      0.77      0.80        13\n",
      "          2       0.98      0.96      0.97       361\n",
      "\n",
      "avg / total       0.95      0.95      0.95       426\n",
      "\n"
     ]
    },
    {
     "name": "stderr",
     "output_type": "stream",
     "text": [
      "/usr/local/lib/python3.6/site-packages/sklearn/linear_model/stochastic_gradient.py:128: FutureWarning: max_iter and tol parameters have been added in <class 'sklearn.linear_model.stochastic_gradient.SGDClassifier'> in 0.19. If both are left unset, they default to max_iter=5 and tol=None. If tol is not None, max_iter defaults to max_iter=1000. From 0.21, default max_iter will be 1000, and default tol will be 1e-3.\n",
      "  \"and default tol will be 1e-3.\" % type(self), FutureWarning)\n",
      "/usr/local/lib/python3.6/site-packages/sklearn/linear_model/stochastic_gradient.py:128: FutureWarning: max_iter and tol parameters have been added in <class 'sklearn.linear_model.stochastic_gradient.SGDClassifier'> in 0.19. If both are left unset, they default to max_iter=5 and tol=None. If tol is not None, max_iter defaults to max_iter=1000. From 0.21, default max_iter will be 1000, and default tol will be 1e-3.\n",
      "  \"and default tol will be 1e-3.\" % type(self), FutureWarning)\n",
      "/usr/local/lib/python3.6/site-packages/sklearn/linear_model/stochastic_gradient.py:128: FutureWarning: max_iter and tol parameters have been added in <class 'sklearn.linear_model.stochastic_gradient.SGDClassifier'> in 0.19. If both are left unset, they default to max_iter=5 and tol=None. If tol is not None, max_iter defaults to max_iter=1000. From 0.21, default max_iter will be 1000, and default tol will be 1e-3.\n",
      "  \"and default tol will be 1e-3.\" % type(self), FutureWarning)\n",
      "/usr/local/lib/python3.6/site-packages/sklearn/linear_model/stochastic_gradient.py:128: FutureWarning: max_iter and tol parameters have been added in <class 'sklearn.linear_model.stochastic_gradient.SGDClassifier'> in 0.19. If both are left unset, they default to max_iter=5 and tol=None. If tol is not None, max_iter defaults to max_iter=1000. From 0.21, default max_iter will be 1000, and default tol will be 1e-3.\n",
      "  \"and default tol will be 1e-3.\" % type(self), FutureWarning)\n"
     ]
    }
   ],
   "source": [
    "from sklearn.pipeline import Pipeline\n",
    "from sklearn.feature_extraction.text import CountVectorizer\n",
    "from sklearn.feature_extraction.text import TfidfTransformer\n",
    "from sklearn.feature_extraction.text import strip_accents_ascii\n",
    "from sklearn.metrics import classification_report\n",
    "from sklearn.metrics import confusion_matrix\n",
    "from sklearn.model_selection import GridSearchCV \n",
    "\n",
    "\n",
    "results = []\n",
    "names = []\n",
    "best_model = None\n",
    "max_score = -1\n",
    "\n",
    "for name, model, cls_params in models:\n",
    "    pipe = Pipeline([('clf', model)])\n",
    "  \n",
    "    gs_cls = GridSearchCV(pipe, cls_params, n_jobs=1)\n",
    "    gs_cls = gs_cls.fit(trainData, trainLabels)\n",
    "  \n",
    "    print (\"Model: \"+ name)\n",
    "    print (\"Best cross-validation score: \" + str(gs_cls.best_score_))\n",
    "    print (\"Best parameters: \" + str(gs_cls.best_params_))\n",
    "\n",
    "    predictions = gs_cls.predict(testData)\n",
    "    score = gs_cls.score(testData, testLabels)\n",
    "    print (\"Accuracy: \" + str(score))\n",
    "\n",
    "    if score > max_score:\n",
    "        max_score = score\n",
    "        best_model = gs_cls\n",
    "\n",
    "    cm = confusion_matrix(testLabels, predictions)\n",
    "    for i, l in enumerate(cm):\n",
    "        print ('{0: <10} {1}'.format(labels_list[i], ''.join(['{0: <3}'.format(x) for x in l])))\n",
    "    \n",
    "    print (classification_report(testLabels, predictions))\n",
    "                       \n",
    "    names.append(name)\n",
    "    results.append(score)"
   ]
  },
  {
   "cell_type": "code",
   "execution_count": 38,
   "metadata": {
    "colab": {
     "autoexec": {
      "startup": false,
      "wait_interval": 0
     },
     "base_uri": "https://localhost:8080/",
     "height": 417,
     "output_extras": [
      {
       "item_id": 1
      }
     ]
    },
    "colab_type": "code",
    "executionInfo": {
     "elapsed": 949,
     "status": "ok",
     "timestamp": 1522448527071,
     "user": {
      "displayName": "Leonardo Edelman Wajnsztok",
      "photoUrl": "https://lh3.googleusercontent.com/a/default-user=s128",
      "userId": "102321387525694070198"
     },
     "user_tz": 180
    },
    "id": "P2oD2U75zi9l",
    "outputId": "1938f8cc-81f6-46a6-ef47-f101af0ac797"
   },
   "outputs": [
    {
     "data": {
      "text/plain": [
       "<Figure size 1600x600 with 1 Axes>"
      ]
     },
     "metadata": {},
     "output_type": "display_data"
    }
   ],
   "source": [
    "import matplotlib\n",
    "from matplotlib import pyplot as plt\n",
    "import numpy as np\n",
    "\n",
    "fig, ax = plt.subplots(1,1, figsize=(16, 6))\n",
    "fig.suptitle('Algorithims Accuracy Comparison')\n",
    "plt.bar(names, results, )\n",
    "plt.ylim(0,1)\n",
    "plt.yticks(np.arange(0,1.1,0.1))\n",
    "for i, v in enumerate(names):\n",
    "    ax.text(v, results[i] + 0.05, '%.4f' %(results[i]), ha='center', va='center')\n",
    "\n",
    "    \n",
    "plt.show()"
   ]
  },
  {
   "cell_type": "markdown",
   "metadata": {
    "colab_type": "text",
    "id": "9oVuweEfskYd"
   },
   "source": [
    "## Save model"
   ]
  },
  {
   "cell_type": "code",
   "execution_count": 39,
   "metadata": {
    "colab": {
     "autoexec": {
      "startup": false,
      "wait_interval": 0
     }
    },
    "colab_type": "code",
    "id": "TKvW9CDRsl3Z"
   },
   "outputs": [],
   "source": [
    "import pickle\n",
    "\n",
    "filename = '../api/models/entities_model.sav' \n",
    "with open(filename, 'wb') as f:\n",
    "    pickle.dump(best_model, f, protocol=2)\n",
    "    \n",
    "filename = '../api/models/entities_label_binarizer.sav' \n",
    "with open(filename, 'wb') as f:\n",
    "    pickle.dump(labels_encoder, f, protocol=2)"
   ]
  },
  {
   "cell_type": "markdown",
   "metadata": {
    "colab_type": "text",
    "id": "WnVr5hlozVKw"
   },
   "source": [
    "## Predict"
   ]
  },
  {
   "cell_type": "code",
   "execution_count": 40,
   "metadata": {
    "colab": {
     "autoexec": {
      "startup": false,
      "wait_interval": 0
     }
    },
    "colab_type": "code",
    "id": "Vn0SXw1ThniF"
   },
   "outputs": [],
   "source": [
    "def process(sent):\n",
    "    d = pd.DataFrame(columns=columns[:-1])\n",
    "    doc = nlp(sent)\n",
    "    for i, token in enumerate(doc):\n",
    "        new_row = generate_features(doc, i)\n",
    "        d = d.append(pd.DataFrame([new_row], columns=columns[:-1]))\n",
    "    d = pd.get_dummies(d)\n",
    "    \n",
    "    # Get missing columns in the training test\n",
    "    missing_cols = set( features_columns ) - set( d.columns )\n",
    "    \n",
    "    # Add a missing column in test set with default value equal to 0\n",
    "    for c in missing_cols:\n",
    "        d[c] = 0\n",
    "        \n",
    "    # Ensure the order of column in the test set is in the same order than in train set\n",
    "    return d[features_columns]\n",
    "\n",
    "def predict(sent):\n",
    "    d = process(sent)\n",
    "    p = best_model.predict(d)\n",
    "    return labels_encoder.inverse_transform(p)\n"
   ]
  },
  {
   "cell_type": "code",
   "execution_count": 41,
   "metadata": {},
   "outputs": [
    {
     "name": "stderr",
     "output_type": "stream",
     "text": [
      "/usr/local/lib/python3.6/site-packages/sklearn/preprocessing/label.py:151: DeprecationWarning: The truth value of an empty array is ambiguous. Returning False, but in future this will result in an error. Use `array.size > 0` to check that an array is not empty.\n",
      "  if diff:\n",
      "/usr/local/lib/python3.6/site-packages/sklearn/preprocessing/label.py:151: DeprecationWarning: The truth value of an empty array is ambiguous. Returning False, but in future this will result in an error. Use `array.size > 0` to check that an array is not empty.\n",
      "  if diff:\n",
      "/usr/local/lib/python3.6/site-packages/sklearn/preprocessing/label.py:151: DeprecationWarning: The truth value of an empty array is ambiguous. Returning False, but in future this will result in an error. Use `array.size > 0` to check that an array is not empty.\n",
      "  if diff:\n"
     ]
    },
    {
     "name": "stdout",
     "output_type": "stream",
     "text": [
      "Liga a televisao por favor. ['o' 'o' 'B-DEVICE' 'o' 'o' 'o']\n",
      "Ligue o ar condicionado. ['o' 'o' 'B-DEVICE' 'I-DEVICE' 'o']\n",
      "Ar condicionado ligado. ['B-DEVICE' 'I-DEVICE' 'o' 'o']\n"
     ]
    },
    {
     "name": "stderr",
     "output_type": "stream",
     "text": [
      "/usr/local/lib/python3.6/site-packages/sklearn/preprocessing/label.py:151: DeprecationWarning: The truth value of an empty array is ambiguous. Returning False, but in future this will result in an error. Use `array.size > 0` to check that an array is not empty.\n",
      "  if diff:\n",
      "/usr/local/lib/python3.6/site-packages/sklearn/preprocessing/label.py:151: DeprecationWarning: The truth value of an empty array is ambiguous. Returning False, but in future this will result in an error. Use `array.size > 0` to check that an array is not empty.\n",
      "  if diff:\n",
      "/usr/local/lib/python3.6/site-packages/sklearn/preprocessing/label.py:151: DeprecationWarning: The truth value of an empty array is ambiguous. Returning False, but in future this will result in an error. Use `array.size > 0` to check that an array is not empty.\n",
      "  if diff:\n"
     ]
    },
    {
     "name": "stdout",
     "output_type": "stream",
     "text": [
      "Liga a luz do quarto ai. ['o' 'o' 'B-DEVICE' 'o' 'o' 'o' 'o']\n",
      "Liga meu computador pra mim. ['o' 'o' 'B-DEVICE' 'o' 'o' 'o']\n",
      "Acende a luz da cozinha por favor. ['o' 'o' 'B-DEVICE' 'o' 'o' 'o' 'o' 'o']\n"
     ]
    },
    {
     "name": "stderr",
     "output_type": "stream",
     "text": [
      "/usr/local/lib/python3.6/site-packages/sklearn/preprocessing/label.py:151: DeprecationWarning: The truth value of an empty array is ambiguous. Returning False, but in future this will result in an error. Use `array.size > 0` to check that an array is not empty.\n",
      "  if diff:\n",
      "/usr/local/lib/python3.6/site-packages/sklearn/preprocessing/label.py:151: DeprecationWarning: The truth value of an empty array is ambiguous. Returning False, but in future this will result in an error. Use `array.size > 0` to check that an array is not empty.\n",
      "  if diff:\n",
      "/usr/local/lib/python3.6/site-packages/sklearn/preprocessing/label.py:151: DeprecationWarning: The truth value of an empty array is ambiguous. Returning False, but in future this will result in an error. Use `array.size > 0` to check that an array is not empty.\n",
      "  if diff:\n"
     ]
    },
    {
     "name": "stdout",
     "output_type": "stream",
     "text": [
      "Liga o som. ['o' 'o' 'B-DEVICE' 'o']\n",
      "Bota um som ai pra mim. ['o' 'o' 'B-DEVICE' 'o' 'o' 'o' 'o']\n",
      "Bota uma musica ai. ['o' 'o' 'B-DEVICE' 'o' 'o']\n",
      "Meu quarto esta um pouco escuro. ['o' 'o' 'o' 'o' 'o' 'o' 'o']\n"
     ]
    },
    {
     "name": "stderr",
     "output_type": "stream",
     "text": [
      "/usr/local/lib/python3.6/site-packages/sklearn/preprocessing/label.py:151: DeprecationWarning: The truth value of an empty array is ambiguous. Returning False, but in future this will result in an error. Use `array.size > 0` to check that an array is not empty.\n",
      "  if diff:\n"
     ]
    }
   ],
   "source": [
    "for s in initial_df['original'][:10]:\n",
    "    print (s, predict(s))"
   ]
  },
  {
   "cell_type": "code",
   "execution_count": 42,
   "metadata": {
    "colab": {
     "autoexec": {
      "startup": false,
      "wait_interval": 0
     },
     "base_uri": "https://localhost:8080/",
     "height": 326,
     "output_extras": [
      {
       "item_id": 1
      },
      {
       "item_id": 2
      }
     ]
    },
    "colab_type": "code",
    "executionInfo": {
     "elapsed": 569,
     "status": "ok",
     "timestamp": 1521937429047,
     "user": {
      "displayName": "Leonardo Edelman Wajnsztok",
      "photoUrl": "https://lh3.googleusercontent.com/a/default-user=s128",
      "userId": "102321387525694070198"
     },
     "user_tz": 180
    },
    "id": "0T19ZFlmet1K",
    "outputId": "d4df4c92-f5c7-4b57-c60e-4a94f3181357"
   },
   "outputs": [
    {
     "name": "stderr",
     "output_type": "stream",
     "text": [
      "/usr/local/lib/python3.6/site-packages/sklearn/preprocessing/label.py:151: DeprecationWarning: The truth value of an empty array is ambiguous. Returning False, but in future this will result in an error. Use `array.size > 0` to check that an array is not empty.\n",
      "  if diff:\n"
     ]
    },
    {
     "data": {
      "text/plain": [
       "array(['o', 'o', 'B-DEVICE', 'o', 'o', 'B-DEVICE', 'o', 'o'], dtype='<U8')"
      ]
     },
     "execution_count": 42,
     "metadata": {},
     "output_type": "execute_result"
    }
   ],
   "source": [
    "predict('Liga o ar condicionado todo dia a noite')"
   ]
  },
  {
   "cell_type": "code",
   "execution_count": 43,
   "metadata": {
    "colab": {
     "autoexec": {
      "startup": false,
      "wait_interval": 0
     },
     "base_uri": "https://localhost:8080/",
     "height": 34,
     "output_extras": [
      {}
     ]
    },
    "colab_type": "code",
    "executionInfo": {
     "elapsed": 579,
     "status": "ok",
     "timestamp": 1519961169178,
     "user": {
      "displayName": "Leonardo Edelman Wajnsztok",
      "photoUrl": "https://lh3.googleusercontent.com/a/default-user=s128",
      "userId": "102321387525694070198"
     },
     "user_tz": 180
    },
    "id": "6fxVa_eKtUYN",
    "outputId": "6cfccbab-fea4-4857-f622-858cc89d7b39"
   },
   "outputs": [
    {
     "name": "stderr",
     "output_type": "stream",
     "text": [
      "/usr/local/lib/python3.6/site-packages/sklearn/preprocessing/label.py:151: DeprecationWarning: The truth value of an empty array is ambiguous. Returning False, but in future this will result in an error. Use `array.size > 0` to check that an array is not empty.\n",
      "  if diff:\n"
     ]
    },
    {
     "data": {
      "text/plain": [
       "array(['o', 'o', 'B-DEVICE', 'I-DEVICE'], dtype='<U8')"
      ]
     },
     "execution_count": 43,
     "metadata": {},
     "output_type": "execute_result"
    }
   ],
   "source": [
    "predict('liga o ar condicionado')"
   ]
  },
  {
   "cell_type": "code",
   "execution_count": 44,
   "metadata": {
    "colab": {
     "autoexec": {
      "startup": false,
      "wait_interval": 0
     },
     "base_uri": "https://localhost:8080/",
     "height": 34,
     "output_extras": [
      {}
     ]
    },
    "colab_type": "code",
    "executionInfo": {
     "elapsed": 577,
     "status": "ok",
     "timestamp": 1519961170878,
     "user": {
      "displayName": "Leonardo Edelman Wajnsztok",
      "photoUrl": "https://lh3.googleusercontent.com/a/default-user=s128",
      "userId": "102321387525694070198"
     },
     "user_tz": 180
    },
    "id": "Eh2Zm10IfkyW",
    "outputId": "e5645c62-0b19-4aed-e8a4-0558e7a238c5"
   },
   "outputs": [
    {
     "name": "stderr",
     "output_type": "stream",
     "text": [
      "/usr/local/lib/python3.6/site-packages/sklearn/preprocessing/label.py:151: DeprecationWarning: The truth value of an empty array is ambiguous. Returning False, but in future this will result in an error. Use `array.size > 0` to check that an array is not empty.\n",
      "  if diff:\n"
     ]
    },
    {
     "data": {
      "text/plain": [
       "array(['o', 'o', 'B-DEVICE', 'o', 'o', 'o'], dtype='<U8')"
      ]
     },
     "execution_count": 44,
     "metadata": {},
     "output_type": "execute_result"
    }
   ],
   "source": [
    "predict('acende a luz do meu quarto')"
   ]
  },
  {
   "cell_type": "code",
   "execution_count": 45,
   "metadata": {
    "colab": {
     "autoexec": {
      "startup": false,
      "wait_interval": 0
     },
     "base_uri": "https://localhost:8080/",
     "height": 34,
     "output_extras": [
      {}
     ]
    },
    "colab_type": "code",
    "executionInfo": {
     "elapsed": 614,
     "status": "ok",
     "timestamp": 1519961172974,
     "user": {
      "displayName": "Leonardo Edelman Wajnsztok",
      "photoUrl": "https://lh3.googleusercontent.com/a/default-user=s128",
      "userId": "102321387525694070198"
     },
     "user_tz": 180
    },
    "id": "3BrSt0oNr_Gf",
    "outputId": "e800ef94-87d8-4793-e0e5-7fa4e7d92417"
   },
   "outputs": [
    {
     "name": "stderr",
     "output_type": "stream",
     "text": [
      "/usr/local/lib/python3.6/site-packages/sklearn/preprocessing/label.py:151: DeprecationWarning: The truth value of an empty array is ambiguous. Returning False, but in future this will result in an error. Use `array.size > 0` to check that an array is not empty.\n",
      "  if diff:\n"
     ]
    },
    {
     "data": {
      "text/plain": [
       "array(['o', 'o', 'o', 'B-DEVICE', 'o', 'o', 'o', 'o'], dtype='<U8')"
      ]
     },
     "execution_count": 45,
     "metadata": {},
     "output_type": "execute_result"
    }
   ],
   "source": [
    "predict('liga todas as luzes das salas de reunião')"
   ]
  },
  {
   "cell_type": "code",
   "execution_count": 46,
   "metadata": {
    "colab": {
     "autoexec": {
      "startup": false,
      "wait_interval": 0
     },
     "base_uri": "https://localhost:8080/",
     "height": 34,
     "output_extras": [
      {}
     ]
    },
    "colab_type": "code",
    "executionInfo": {
     "elapsed": 580,
     "status": "ok",
     "timestamp": 1519961174525,
     "user": {
      "displayName": "Leonardo Edelman Wajnsztok",
      "photoUrl": "https://lh3.googleusercontent.com/a/default-user=s128",
      "userId": "102321387525694070198"
     },
     "user_tz": 180
    },
    "id": "8gngIqH9vEJ6",
    "outputId": "095c3deb-174d-4aa6-ead4-88e6fd11bc5b"
   },
   "outputs": [
    {
     "name": "stderr",
     "output_type": "stream",
     "text": [
      "/usr/local/lib/python3.6/site-packages/sklearn/preprocessing/label.py:151: DeprecationWarning: The truth value of an empty array is ambiguous. Returning False, but in future this will result in an error. Use `array.size > 0` to check that an array is not empty.\n",
      "  if diff:\n"
     ]
    },
    {
     "data": {
      "text/plain": [
       "array(['o', 'o', 'o', 'o', 'o', 'o'], dtype='<U8')"
      ]
     },
     "execution_count": 46,
     "metadata": {},
     "output_type": "execute_result"
    }
   ],
   "source": [
    "predict('liga a televisao as 5 horas')"
   ]
  },
  {
   "cell_type": "code",
   "execution_count": null,
   "metadata": {},
   "outputs": [],
   "source": []
  },
  {
   "cell_type": "code",
   "execution_count": null,
   "metadata": {},
   "outputs": [],
   "source": []
  }
 ],
 "metadata": {
  "accelerator": "GPU",
  "colab": {
   "collapsed_sections": [],
   "default_view": {},
   "name": "entity_classifier_2.ipynb",
   "provenance": [],
   "version": "0.3.2",
   "views": {}
  },
  "kernelspec": {
   "display_name": "Python 3",
   "language": "python",
   "name": "python3"
  },
  "language_info": {
   "codemirror_mode": {
    "name": "ipython",
    "version": 3
   },
   "file_extension": ".py",
   "mimetype": "text/x-python",
   "name": "python",
   "nbconvert_exporter": "python",
   "pygments_lexer": "ipython3",
   "version": "3.6.8"
  }
 },
 "nbformat": 4,
 "nbformat_minor": 2
}
